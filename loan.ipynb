{
 "cells": [
  {
   "cell_type": "code",
   "execution_count": 90,
   "id": "d729f8ab",
   "metadata": {},
   "outputs": [],
   "source": [
    "def read_csv(file_path):\n",
    "    file = open(file_path, \"r\")\n",
    "    lines = file.readlines()\n",
    "    file.close()\n",
    "    data = [line.strip().split(\",\") for line in lines]\n",
    "    print(f\"read_csv: header = {data[0]}, number of rows = {len(data)-1}\")\n",
    "    return data[0], data[1:]"
   ]
  },
  {
   "cell_type": "code",
   "execution_count": 91,
   "id": "c884900e",
   "metadata": {},
   "outputs": [],
   "source": [
    "def fill_missing(row, index, default):\n",
    "    return row[index] if row[index] != \"\" else default"
   ]
  },
  {
   "cell_type": "code",
   "execution_count": 92,
   "id": "e9f55334",
   "metadata": {},
   "outputs": [],
   "source": [
    "def encode(row, col_idx, mapping):\n",
    "    return mapping.get(row[col_idx], 0)"
   ]
  },
  {
   "cell_type": "code",
   "execution_count": 93,
   "id": "68d50cde",
   "metadata": {},
   "outputs": [],
   "source": [
    "def preprocess(data, header):\n",
    "    processed = []\n",
    "    for row in data:\n",
    "        try:\n",
    "            gender = encode(row, 1, {\"Male\": 1, \"Female\": 0})\n",
    "            married = encode(row, 2, {\"Yes\": 1, \"No\": 0})\n",
    "            dependents = encode(row, 3, {\"0\": 0, \"1\": 1, \"2\": 2, \"3+\": 3})\n",
    "            education = encode(row, 4, {\"Graduate\": 1, \"Not Graduate\": 0})\n",
    "            self_emp = encode(row, 5, {\"Yes\": 1, \"No\": 0})\n",
    "            applicant_income = int(fill_missing(row, 6, \"0\"))\n",
    "            coapplicant_income = float(fill_missing(row, 7, \"0\"))\n",
    "            loan_amount = float(fill_missing(row, 8, \"120\"))  # Median approx\n",
    "            loan_term = float(fill_missing(row, 9, \"360\"))\n",
    "            credit_history = float(fill_missing(row, 10, \"1\"))\n",
    "            property_area = encode(row, 11, {\"Urban\": 2, \"Semiurban\": 1, \"Rural\": 0})\n",
    "            loan_status = 1 if row[12] == \"Y\" else 0\n",
    "\n",
    "            features = [\n",
    "                gender, married, dependents, education, self_emp,\n",
    "                applicant_income, coapplicant_income, loan_amount,\n",
    "                loan_term, credit_history, property_area\n",
    "            ]\n",
    "\n",
    "            processed.append((features, loan_status))\n",
    "        except:\n",
    "            continue\n",
    "    print(f\"preprocess: processed {len(processed)} rows\")\n",
    "    return processed"
   ]
  },
  {
   "cell_type": "code",
   "execution_count": 94,
   "id": "b0295f86",
   "metadata": {},
   "outputs": [],
   "source": [
    "def split_data(dataset, split_ratio=0.8):\n",
    "    train_size = int(len(dataset) * split_ratio)\n",
    "    train, test = dataset[:train_size], dataset[train_size:]\n",
    "    print(f\"split_data: train size = {len(train)}, test size = {len(test)}\")\n",
    "    return train, test"
   ]
  },
  {
   "cell_type": "code",
   "execution_count": 95,
   "id": "7b49d51a",
   "metadata": {},
   "outputs": [],
   "source": [
    "def majority_label(data):\n",
    "    count = {0: 0, 1: 0}\n",
    "    for _, label in data:\n",
    "        count[label] += 1\n",
    "    return 1 if count[1] >= count[0] else 0"
   ]
  },
  {
   "cell_type": "code",
   "execution_count": 96,
   "id": "67bdbf44",
   "metadata": {},
   "outputs": [],
   "source": [
    "def evaluate_split(data, feature_index):\n",
    "    left, right = [], []\n",
    "    for features, label in data:\n",
    "        if features[feature_index] == 1:\n",
    "            left.append((features, label))\n",
    "        else:\n",
    "            right.append((features, label))\n",
    "    \n",
    "    if len(left) == 0 or len(right) == 0:\n",
    "        return 0, 0, 0\n",
    "\n",
    "    left_pred = majority_label(left)\n",
    "    right_pred = majority_label(right)\n",
    "\n",
    "    correct = 0\n",
    "    for features, label in data:\n",
    "        pred = left_pred if features[feature_index] == 1 else right_pred\n",
    "        if pred == label:\n",
    "            correct += 1\n",
    "\n",
    "    accuracy = correct / len(data)\n",
    "    print(f\"evaluate_split: feature {feature_index}, accuracy {accuracy:.4f}, left_pred {left_pred}, right_pred {right_pred}\")\n",
    "    return accuracy, left_pred, right_pred"
   ]
  },
  {
   "cell_type": "code",
   "execution_count": 97,
   "id": "154c1b07",
   "metadata": {},
   "outputs": [
    {
     "name": "stdout",
     "output_type": "stream",
     "text": [
      "read_csv: header = ['Loan_ID', 'Gender', 'Married', 'Dependents', 'Education', 'Self_Employed', 'ApplicantIncome', 'CoapplicantIncome', 'LoanAmount', 'Loan_Amount_Term', 'Credit_History', 'Property_Area', 'Loan_Status'], number of rows = 614\n",
      "preprocess: processed 614 rows\n",
      "split_data: train size = 491, test size = 123\n",
      "evaluate_split: feature 0, accuracy 0.6884, left_pred 1, right_pred 1\n",
      "evaluate_split: feature 1, accuracy 0.6884, left_pred 1, right_pred 1\n",
      "evaluate_split: feature 2, accuracy 0.6884, left_pred 1, right_pred 1\n",
      "evaluate_split: feature 3, accuracy 0.6884, left_pred 1, right_pred 1\n",
      "evaluate_split: feature 4, accuracy 0.6884, left_pred 1, right_pred 1\n",
      "evaluate_split: feature 9, accuracy 0.8065, left_pred 1, right_pred 0\n",
      "evaluate_split: feature 10, accuracy 0.6884, left_pred 1, right_pred 1\n",
      "Best root feature: 9 with accuracy 0.8065\n",
      "Split train data by root feature 9: left size 70, right size 421\n"
     ]
    }
   ],
   "source": [
    "header, raw_data = read_csv(\"loan_data.csv\")\n",
    "data = preprocess(raw_data, header)\n",
    "train_data, test_data = split_data(data)\n",
    "\n",
    "best_accuracy = 0\n",
    "root_feature = -1\n",
    "for i in range(11):\n",
    "    acc, _, _ = evaluate_split(train_data, i)\n",
    "    if acc > best_accuracy:\n",
    "        best_accuracy = acc\n",
    "        root_feature = i\n",
    "print(f\"Best root feature: {root_feature} with accuracy {best_accuracy:.4f}\")\n",
    "\n",
    "# Langkah 2: Split berdasarkan root_feature\n",
    "left_data, right_data = [], []\n",
    "for features, label in train_data:\n",
    "    if features[root_feature] == 1:\n",
    "        right_data.append((features, label))\n",
    "    else:\n",
    "        left_data.append((features, label))\n",
    "print(f\"Split train data by root feature {root_feature}: left size {len(left_data)}, right size {len(right_data)}\")"
   ]
  },
  {
   "cell_type": "code",
   "execution_count": 98,
   "id": "b173f5be",
   "metadata": {},
   "outputs": [
    {
     "name": "stdout",
     "output_type": "stream",
     "text": [
      "evaluate_split: feature 0, accuracy 0.9143, left_pred 0, right_pred 0\n",
      "evaluate_split: feature 1, accuracy 0.9143, left_pred 0, right_pred 0\n",
      "evaluate_split: feature 2, accuracy 0.9143, left_pred 0, right_pred 0\n",
      "evaluate_split: feature 3, accuracy 0.9143, left_pred 0, right_pred 0\n",
      "evaluate_split: feature 4, accuracy 0.9143, left_pred 0, right_pred 0\n",
      "evaluate_split: feature 10, accuracy 0.9143, left_pred 0, right_pred 0\n",
      "find_best_feature: best feature 0 with accuracy 0.9143\n",
      "evaluate_split: feature 0, accuracy 0.7886, left_pred 1, right_pred 1\n",
      "evaluate_split: feature 1, accuracy 0.7886, left_pred 1, right_pred 1\n",
      "evaluate_split: feature 2, accuracy 0.7886, left_pred 1, right_pred 1\n",
      "evaluate_split: feature 3, accuracy 0.7886, left_pred 1, right_pred 1\n",
      "evaluate_split: feature 4, accuracy 0.7886, left_pred 1, right_pred 1\n",
      "evaluate_split: feature 10, accuracy 0.7886, left_pred 1, right_pred 1\n",
      "find_best_feature: best feature 0 with accuracy 0.7886\n"
     ]
    }
   ],
   "source": [
    "def find_best_feature(data_subset):\n",
    "    best_fi = -1\n",
    "    best_acc = 0\n",
    "    best_lp = 0\n",
    "    best_rp = 0\n",
    "    for i in range(11):\n",
    "        acc, lp, rp = evaluate_split(data_subset, i)\n",
    "        if acc > best_acc:\n",
    "            best_acc = acc\n",
    "            best_fi = i\n",
    "            best_lp = lp\n",
    "            best_rp = rp\n",
    "    print(f\"find_best_feature: best feature {best_fi} with accuracy {best_acc:.4f}\")\n",
    "    return best_fi, best_lp, best_rp\n",
    "\n",
    "left_feature, left_1, left_0 = find_best_feature(left_data)\n",
    "right_feature, right_1, right_0 = find_best_feature(right_data)"
   ]
  },
  {
   "cell_type": "code",
   "execution_count": 99,
   "id": "6f638840",
   "metadata": {},
   "outputs": [],
   "source": [
    "def predict(features):\n",
    "    if features[root_feature] == 1:\n",
    "        if features[right_feature] == 1:\n",
    "            return right_1\n",
    "        else:\n",
    "            return right_0\n",
    "    else:\n",
    "        if features[left_feature] == 1:\n",
    "            return left_1\n",
    "        else:\n",
    "            return left_0"
   ]
  },
  {
   "cell_type": "code",
   "execution_count": 100,
   "id": "1427c0b6",
   "metadata": {},
   "outputs": [
    {
     "name": "stdout",
     "output_type": "stream",
     "text": [
      "evaluate: accuracy on dataset = 0.8211\n",
      "Decision Tree Depth-2 Akurasi: 82.11 %\n",
      "Root Feature: 9\n",
      "Left Feature: 0  Right Feature: 0\n"
     ]
    }
   ],
   "source": [
    "def evaluate(dataset):\n",
    "    correct = 0\n",
    "    for features, label in dataset:\n",
    "        if predict(features) == label:\n",
    "            correct += 1\n",
    "    accuracy = correct / len(dataset)\n",
    "    print(f\"evaluate: accuracy on dataset = {accuracy:.4f}\")\n",
    "    return accuracy\n",
    "\n",
    "acc_test = evaluate(test_data)\n",
    "print(\"Decision Tree Depth-2 Akurasi:\", round(acc_test * 100, 2), \"%\")\n",
    "print(\"Root Feature:\", root_feature)\n",
    "print(\"Left Feature:\", left_feature, \" Right Feature:\", right_feature)"
   ]
  }
 ],
 "metadata": {
  "kernelspec": {
   "display_name": "Python 3",
   "language": "python",
   "name": "python3"
  },
  "language_info": {
   "codemirror_mode": {
    "name": "ipython",
    "version": 3
   },
   "file_extension": ".py",
   "mimetype": "text/x-python",
   "name": "python",
   "nbconvert_exporter": "python",
   "pygments_lexer": "ipython3",
   "version": "3.11.1"
  }
 },
 "nbformat": 4,
 "nbformat_minor": 5
}
